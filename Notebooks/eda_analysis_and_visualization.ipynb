{
 "cells": [
  {
   "cell_type": "code",
   "execution_count": 110,
   "id": "54460b34",
   "metadata": {},
   "outputs": [],
   "source": [
    "import pandas as pd\n",
    "import numpy as np\n",
    "import seaborn as sns"
   ]
  },
  {
   "cell_type": "code",
   "execution_count": 111,
   "id": "b01d41dd",
   "metadata": {},
   "outputs": [],
   "source": [
    "cleaned_houses = pd.read_csv(\"../Data/riyadh_houses_cleaned.csv\")\n",
    "extra_features = pd.read_csv(\"../Data/riyadh_houses_extra_features.csv\")"
   ]
  },
  {
   "cell_type": "code",
   "execution_count": 112,
   "id": "6a382e89",
   "metadata": {},
   "outputs": [
    {
     "data": {
      "text/html": [
       "<div>\n",
       "<style scoped>\n",
       "    .dataframe tbody tr th:only-of-type {\n",
       "        vertical-align: middle;\n",
       "    }\n",
       "\n",
       "    .dataframe tbody tr th {\n",
       "        vertical-align: top;\n",
       "    }\n",
       "\n",
       "    .dataframe thead th {\n",
       "        text-align: right;\n",
       "    }\n",
       "</style>\n",
       "<table border=\"1\" class=\"dataframe\">\n",
       "  <thead>\n",
       "    <tr style=\"text-align: right;\">\n",
       "      <th></th>\n",
       "      <th>title</th>\n",
       "      <th>size</th>\n",
       "      <th>price</th>\n",
       "      <th>bedrooms</th>\n",
       "      <th>bathrooms</th>\n",
       "    </tr>\n",
       "  </thead>\n",
       "  <tbody>\n",
       "    <tr>\n",
       "      <th>0</th>\n",
       "      <td>فيلا للبيع في شارع الناقورة ، حي نمار ، الرياض</td>\n",
       "      <td>640.0</td>\n",
       "      <td>1800000.0</td>\n",
       "      <td>4.703128</td>\n",
       "      <td>4.0</td>\n",
       "    </tr>\n",
       "    <tr>\n",
       "      <th>1</th>\n",
       "      <td>فيلا للبيع في حي الياسمين ، الرياض</td>\n",
       "      <td>447.0</td>\n",
       "      <td>1460000.0</td>\n",
       "      <td>4.000000</td>\n",
       "      <td>4.0</td>\n",
       "    </tr>\n",
       "    <tr>\n",
       "      <th>2</th>\n",
       "      <td>فيلا للبيع في شارع الفيء ، حي الربيع ، الرياض</td>\n",
       "      <td>450.0</td>\n",
       "      <td>1750000.0</td>\n",
       "      <td>4.000000</td>\n",
       "      <td>5.0</td>\n",
       "    </tr>\n",
       "  </tbody>\n",
       "</table>\n",
       "</div>"
      ],
      "text/plain": [
       "                                            title   size      price  bedrooms  \\\n",
       "0  فيلا للبيع في شارع الناقورة ، حي نمار ، الرياض  640.0  1800000.0  4.703128   \n",
       "1              فيلا للبيع في حي الياسمين ، الرياض  447.0  1460000.0  4.000000   \n",
       "2   فيلا للبيع في شارع الفيء ، حي الربيع ، الرياض  450.0  1750000.0  4.000000   \n",
       "\n",
       "   bathrooms  \n",
       "0        4.0  \n",
       "1        4.0  \n",
       "2        5.0  "
      ]
     },
     "execution_count": 112,
     "metadata": {},
     "output_type": "execute_result"
    }
   ],
   "source": [
    "cleaned_houses.head(3)"
   ]
  },
  {
   "cell_type": "code",
   "execution_count": 113,
   "id": "d5fe0215",
   "metadata": {},
   "outputs": [
    {
     "data": {
      "text/html": [
       "<div>\n",
       "<style scoped>\n",
       "    .dataframe tbody tr th:only-of-type {\n",
       "        vertical-align: middle;\n",
       "    }\n",
       "\n",
       "    .dataframe tbody tr th {\n",
       "        vertical-align: top;\n",
       "    }\n",
       "\n",
       "    .dataframe thead th {\n",
       "        text-align: right;\n",
       "    }\n",
       "</style>\n",
       "<table border=\"1\" class=\"dataframe\">\n",
       "  <thead>\n",
       "    <tr style=\"text-align: right;\">\n",
       "      <th></th>\n",
       "      <th>time_duration</th>\n",
       "      <th>neighborhood</th>\n",
       "    </tr>\n",
       "  </thead>\n",
       "  <tbody>\n",
       "    <tr>\n",
       "      <th>0</th>\n",
       "      <td>7 days 00:00:00</td>\n",
       "      <td>نمار</td>\n",
       "    </tr>\n",
       "    <tr>\n",
       "      <th>1</th>\n",
       "      <td>0 days 00:01:00</td>\n",
       "      <td>الياسمين</td>\n",
       "    </tr>\n",
       "    <tr>\n",
       "      <th>2</th>\n",
       "      <td>1 days 00:00:00</td>\n",
       "      <td>الربيع</td>\n",
       "    </tr>\n",
       "  </tbody>\n",
       "</table>\n",
       "</div>"
      ],
      "text/plain": [
       "     time_duration neighborhood\n",
       "0  7 days 00:00:00         نمار\n",
       "1  0 days 00:01:00     الياسمين\n",
       "2  1 days 00:00:00       الربيع"
      ]
     },
     "execution_count": 113,
     "metadata": {},
     "output_type": "execute_result"
    }
   ],
   "source": [
    "extra_features.head(3)"
   ]
  },
  {
   "cell_type": "code",
   "execution_count": 114,
   "id": "bfb43c8f",
   "metadata": {},
   "outputs": [],
   "source": [
    "#connect the two dataframes 'cleaned_houses' & 'extra_features'\n",
    "final_houses = pd.concat([cleaned_houses, extra_features], axis=1)"
   ]
  },
  {
   "cell_type": "code",
   "execution_count": 115,
   "id": "b01e278c",
   "metadata": {},
   "outputs": [
    {
     "data": {
      "text/html": [
       "<div>\n",
       "<style scoped>\n",
       "    .dataframe tbody tr th:only-of-type {\n",
       "        vertical-align: middle;\n",
       "    }\n",
       "\n",
       "    .dataframe tbody tr th {\n",
       "        vertical-align: top;\n",
       "    }\n",
       "\n",
       "    .dataframe thead th {\n",
       "        text-align: right;\n",
       "    }\n",
       "</style>\n",
       "<table border=\"1\" class=\"dataframe\">\n",
       "  <thead>\n",
       "    <tr style=\"text-align: right;\">\n",
       "      <th></th>\n",
       "      <th>title</th>\n",
       "      <th>size</th>\n",
       "      <th>price</th>\n",
       "      <th>bedrooms</th>\n",
       "      <th>bathrooms</th>\n",
       "      <th>time_duration</th>\n",
       "      <th>neighborhood</th>\n",
       "    </tr>\n",
       "  </thead>\n",
       "  <tbody>\n",
       "    <tr>\n",
       "      <th>0</th>\n",
       "      <td>فيلا للبيع في شارع الناقورة ، حي نمار ، الرياض</td>\n",
       "      <td>640.000000</td>\n",
       "      <td>1.800000e+06</td>\n",
       "      <td>4.703128</td>\n",
       "      <td>4.0</td>\n",
       "      <td>7 days 00:00:00</td>\n",
       "      <td>نمار</td>\n",
       "    </tr>\n",
       "    <tr>\n",
       "      <th>1</th>\n",
       "      <td>فيلا للبيع في حي الياسمين ، الرياض</td>\n",
       "      <td>447.000000</td>\n",
       "      <td>1.460000e+06</td>\n",
       "      <td>4.000000</td>\n",
       "      <td>4.0</td>\n",
       "      <td>0 days 00:01:00</td>\n",
       "      <td>الياسمين</td>\n",
       "    </tr>\n",
       "    <tr>\n",
       "      <th>2</th>\n",
       "      <td>فيلا للبيع في شارع الفيء ، حي الربيع ، الرياض</td>\n",
       "      <td>450.000000</td>\n",
       "      <td>1.750000e+06</td>\n",
       "      <td>4.000000</td>\n",
       "      <td>5.0</td>\n",
       "      <td>1 days 00:00:00</td>\n",
       "      <td>الربيع</td>\n",
       "    </tr>\n",
       "    <tr>\n",
       "      <th>3</th>\n",
       "      <td>فيلا للبيع في الرياض</td>\n",
       "      <td>336.000000</td>\n",
       "      <td>1.200000e+06</td>\n",
       "      <td>4.000000</td>\n",
       "      <td>5.0</td>\n",
       "      <td>91 days 06:00:00</td>\n",
       "      <td>طويق</td>\n",
       "    </tr>\n",
       "    <tr>\n",
       "      <th>4</th>\n",
       "      <td>فيلا للبيع في شارع وادي الساحل ، الرياض</td>\n",
       "      <td>373.000000</td>\n",
       "      <td>1.230000e+06</td>\n",
       "      <td>4.000000</td>\n",
       "      <td>4.0</td>\n",
       "      <td>0 days 13:00:00</td>\n",
       "      <td>الرمال</td>\n",
       "    </tr>\n",
       "    <tr>\n",
       "      <th>...</th>\n",
       "      <td>...</td>\n",
       "      <td>...</td>\n",
       "      <td>...</td>\n",
       "      <td>...</td>\n",
       "      <td>...</td>\n",
       "      <td>...</td>\n",
       "      <td>...</td>\n",
       "    </tr>\n",
       "    <tr>\n",
       "      <th>9969</th>\n",
       "      <td>فيلا للبيع في حي ظهرة لبن ، الرياض</td>\n",
       "      <td>300.000000</td>\n",
       "      <td>1.300000e+06</td>\n",
       "      <td>4.703128</td>\n",
       "      <td>5.0</td>\n",
       "      <td>0 days 22:00:00</td>\n",
       "      <td>لبن</td>\n",
       "    </tr>\n",
       "    <tr>\n",
       "      <th>9970</th>\n",
       "      <td>فيلا للبيع في حي الياسمين ، الرياض</td>\n",
       "      <td>360.000000</td>\n",
       "      <td>2.100000e+06</td>\n",
       "      <td>5.000000</td>\n",
       "      <td>5.0</td>\n",
       "      <td>0 days 08:00:00</td>\n",
       "      <td>الياسمين</td>\n",
       "    </tr>\n",
       "    <tr>\n",
       "      <th>9971</th>\n",
       "      <td>فيلا للبيع في طريق الملك عبدالعزيز ، الرياض</td>\n",
       "      <td>391.000000</td>\n",
       "      <td>1.600000e+06</td>\n",
       "      <td>5.000000</td>\n",
       "      <td>3.0</td>\n",
       "      <td>30 days 10:00:00</td>\n",
       "      <td>العارض</td>\n",
       "    </tr>\n",
       "    <tr>\n",
       "      <th>9972</th>\n",
       "      <td>فيلا للبيع في شارع حفصة بنت عمر ، حي الروضة ، ...</td>\n",
       "      <td>475.679968</td>\n",
       "      <td>1.895103e+06</td>\n",
       "      <td>5.000000</td>\n",
       "      <td>5.0</td>\n",
       "      <td>0 days 01:00:00</td>\n",
       "      <td>الروضة</td>\n",
       "    </tr>\n",
       "    <tr>\n",
       "      <th>9973</th>\n",
       "      <td>فيلا للبيع في حي الياسمين ، الرياض</td>\n",
       "      <td>350.000000</td>\n",
       "      <td>1.900000e+06</td>\n",
       "      <td>4.000000</td>\n",
       "      <td>3.0</td>\n",
       "      <td>0 days 09:00:00</td>\n",
       "      <td>الياسمين</td>\n",
       "    </tr>\n",
       "  </tbody>\n",
       "</table>\n",
       "<p>9974 rows × 7 columns</p>\n",
       "</div>"
      ],
      "text/plain": [
       "                                                  title        size  \\\n",
       "0        فيلا للبيع في شارع الناقورة ، حي نمار ، الرياض  640.000000   \n",
       "1                    فيلا للبيع في حي الياسمين ، الرياض  447.000000   \n",
       "2         فيلا للبيع في شارع الفيء ، حي الربيع ، الرياض  450.000000   \n",
       "3                                  فيلا للبيع في الرياض  336.000000   \n",
       "4               فيلا للبيع في شارع وادي الساحل ، الرياض  373.000000   \n",
       "...                                                 ...         ...   \n",
       "9969                 فيلا للبيع في حي ظهرة لبن ، الرياض  300.000000   \n",
       "9970                 فيلا للبيع في حي الياسمين ، الرياض  360.000000   \n",
       "9971        فيلا للبيع في طريق الملك عبدالعزيز ، الرياض  391.000000   \n",
       "9972  فيلا للبيع في شارع حفصة بنت عمر ، حي الروضة ، ...  475.679968   \n",
       "9973                 فيلا للبيع في حي الياسمين ، الرياض  350.000000   \n",
       "\n",
       "             price  bedrooms  bathrooms     time_duration neighborhood  \n",
       "0     1.800000e+06  4.703128        4.0   7 days 00:00:00         نمار  \n",
       "1     1.460000e+06  4.000000        4.0   0 days 00:01:00     الياسمين  \n",
       "2     1.750000e+06  4.000000        5.0   1 days 00:00:00       الربيع  \n",
       "3     1.200000e+06  4.000000        5.0  91 days 06:00:00         طويق  \n",
       "4     1.230000e+06  4.000000        4.0   0 days 13:00:00       الرمال  \n",
       "...            ...       ...        ...               ...          ...  \n",
       "9969  1.300000e+06  4.703128        5.0   0 days 22:00:00          لبن  \n",
       "9970  2.100000e+06  5.000000        5.0   0 days 08:00:00     الياسمين  \n",
       "9971  1.600000e+06  5.000000        3.0  30 days 10:00:00       العارض  \n",
       "9972  1.895103e+06  5.000000        5.0   0 days 01:00:00       الروضة  \n",
       "9973  1.900000e+06  4.000000        3.0   0 days 09:00:00     الياسمين  \n",
       "\n",
       "[9974 rows x 7 columns]"
      ]
     },
     "execution_count": 115,
     "metadata": {},
     "output_type": "execute_result"
    }
   ],
   "source": [
    "final_houses"
   ]
  },
  {
   "cell_type": "code",
   "execution_count": 116,
   "id": "eaf940bd",
   "metadata": {},
   "outputs": [
    {
     "data": {
      "text/plain": [
       "['title',\n",
       " 'size',\n",
       " 'price',\n",
       " 'bedrooms',\n",
       " 'bathrooms',\n",
       " 'time_duration',\n",
       " 'neighborhood']"
      ]
     },
     "execution_count": 116,
     "metadata": {},
     "output_type": "execute_result"
    }
   ],
   "source": [
    "#get the columns names as a list\n",
    "new_columns = final_houses.columns.to_list()\n",
    "new_columns"
   ]
  },
  {
   "cell_type": "code",
   "execution_count": 117,
   "id": "9cb1c839",
   "metadata": {},
   "outputs": [
    {
     "data": {
      "text/plain": [
       "['title',\n",
       " 'neighborhood',\n",
       " 'time_duration',\n",
       " 'bedrooms',\n",
       " 'bathrooms',\n",
       " 'size',\n",
       " 'price']"
      ]
     },
     "execution_count": 117,
     "metadata": {},
     "output_type": "execute_result"
    }
   ],
   "source": [
    "def swap(list_, index1, index2):\n",
    "    '''\n",
    "    function to swap to elements in the list.\n",
    "    \n",
    "    return:\n",
    "    new list with new order.\n",
    "    '''\n",
    "    list_[index1], list_[index2] = list_[index2], list_[index1]\n",
    "    return list_\n",
    "\n",
    "\n",
    "# rearrange the columns order\n",
    "new_columns = swap(new_columns, 2, 6)\n",
    "new_columns = swap(new_columns, 2, 1)\n",
    "new_columns = swap(new_columns, 2, 5)\n",
    "new_columns"
   ]
  },
  {
   "cell_type": "code",
   "execution_count": 118,
   "id": "94381942",
   "metadata": {},
   "outputs": [
    {
     "data": {
      "text/html": [
       "<div>\n",
       "<style scoped>\n",
       "    .dataframe tbody tr th:only-of-type {\n",
       "        vertical-align: middle;\n",
       "    }\n",
       "\n",
       "    .dataframe tbody tr th {\n",
       "        vertical-align: top;\n",
       "    }\n",
       "\n",
       "    .dataframe thead th {\n",
       "        text-align: right;\n",
       "    }\n",
       "</style>\n",
       "<table border=\"1\" class=\"dataframe\">\n",
       "  <thead>\n",
       "    <tr style=\"text-align: right;\">\n",
       "      <th></th>\n",
       "      <th>title</th>\n",
       "      <th>neighborhood</th>\n",
       "      <th>time_duration</th>\n",
       "      <th>bedrooms</th>\n",
       "      <th>bathrooms</th>\n",
       "      <th>size</th>\n",
       "      <th>price</th>\n",
       "    </tr>\n",
       "  </thead>\n",
       "  <tbody>\n",
       "    <tr>\n",
       "      <th>0</th>\n",
       "      <td>فيلا للبيع في شارع الناقورة ، حي نمار ، الرياض</td>\n",
       "      <td>نمار</td>\n",
       "      <td>7 days 00:00:00</td>\n",
       "      <td>4.703128</td>\n",
       "      <td>4.0</td>\n",
       "      <td>640.000000</td>\n",
       "      <td>1.800000e+06</td>\n",
       "    </tr>\n",
       "    <tr>\n",
       "      <th>1</th>\n",
       "      <td>فيلا للبيع في حي الياسمين ، الرياض</td>\n",
       "      <td>الياسمين</td>\n",
       "      <td>0 days 00:01:00</td>\n",
       "      <td>4.000000</td>\n",
       "      <td>4.0</td>\n",
       "      <td>447.000000</td>\n",
       "      <td>1.460000e+06</td>\n",
       "    </tr>\n",
       "    <tr>\n",
       "      <th>2</th>\n",
       "      <td>فيلا للبيع في شارع الفيء ، حي الربيع ، الرياض</td>\n",
       "      <td>الربيع</td>\n",
       "      <td>1 days 00:00:00</td>\n",
       "      <td>4.000000</td>\n",
       "      <td>5.0</td>\n",
       "      <td>450.000000</td>\n",
       "      <td>1.750000e+06</td>\n",
       "    </tr>\n",
       "    <tr>\n",
       "      <th>3</th>\n",
       "      <td>فيلا للبيع في الرياض</td>\n",
       "      <td>طويق</td>\n",
       "      <td>91 days 06:00:00</td>\n",
       "      <td>4.000000</td>\n",
       "      <td>5.0</td>\n",
       "      <td>336.000000</td>\n",
       "      <td>1.200000e+06</td>\n",
       "    </tr>\n",
       "    <tr>\n",
       "      <th>4</th>\n",
       "      <td>فيلا للبيع في شارع وادي الساحل ، الرياض</td>\n",
       "      <td>الرمال</td>\n",
       "      <td>0 days 13:00:00</td>\n",
       "      <td>4.000000</td>\n",
       "      <td>4.0</td>\n",
       "      <td>373.000000</td>\n",
       "      <td>1.230000e+06</td>\n",
       "    </tr>\n",
       "    <tr>\n",
       "      <th>...</th>\n",
       "      <td>...</td>\n",
       "      <td>...</td>\n",
       "      <td>...</td>\n",
       "      <td>...</td>\n",
       "      <td>...</td>\n",
       "      <td>...</td>\n",
       "      <td>...</td>\n",
       "    </tr>\n",
       "    <tr>\n",
       "      <th>9969</th>\n",
       "      <td>فيلا للبيع في حي ظهرة لبن ، الرياض</td>\n",
       "      <td>لبن</td>\n",
       "      <td>0 days 22:00:00</td>\n",
       "      <td>4.703128</td>\n",
       "      <td>5.0</td>\n",
       "      <td>300.000000</td>\n",
       "      <td>1.300000e+06</td>\n",
       "    </tr>\n",
       "    <tr>\n",
       "      <th>9970</th>\n",
       "      <td>فيلا للبيع في حي الياسمين ، الرياض</td>\n",
       "      <td>الياسمين</td>\n",
       "      <td>0 days 08:00:00</td>\n",
       "      <td>5.000000</td>\n",
       "      <td>5.0</td>\n",
       "      <td>360.000000</td>\n",
       "      <td>2.100000e+06</td>\n",
       "    </tr>\n",
       "    <tr>\n",
       "      <th>9971</th>\n",
       "      <td>فيلا للبيع في طريق الملك عبدالعزيز ، الرياض</td>\n",
       "      <td>العارض</td>\n",
       "      <td>30 days 10:00:00</td>\n",
       "      <td>5.000000</td>\n",
       "      <td>3.0</td>\n",
       "      <td>391.000000</td>\n",
       "      <td>1.600000e+06</td>\n",
       "    </tr>\n",
       "    <tr>\n",
       "      <th>9972</th>\n",
       "      <td>فيلا للبيع في شارع حفصة بنت عمر ، حي الروضة ، ...</td>\n",
       "      <td>الروضة</td>\n",
       "      <td>0 days 01:00:00</td>\n",
       "      <td>5.000000</td>\n",
       "      <td>5.0</td>\n",
       "      <td>475.679968</td>\n",
       "      <td>1.895103e+06</td>\n",
       "    </tr>\n",
       "    <tr>\n",
       "      <th>9973</th>\n",
       "      <td>فيلا للبيع في حي الياسمين ، الرياض</td>\n",
       "      <td>الياسمين</td>\n",
       "      <td>0 days 09:00:00</td>\n",
       "      <td>4.000000</td>\n",
       "      <td>3.0</td>\n",
       "      <td>350.000000</td>\n",
       "      <td>1.900000e+06</td>\n",
       "    </tr>\n",
       "  </tbody>\n",
       "</table>\n",
       "<p>9974 rows × 7 columns</p>\n",
       "</div>"
      ],
      "text/plain": [
       "                                                  title neighborhood  \\\n",
       "0        فيلا للبيع في شارع الناقورة ، حي نمار ، الرياض         نمار   \n",
       "1                    فيلا للبيع في حي الياسمين ، الرياض     الياسمين   \n",
       "2         فيلا للبيع في شارع الفيء ، حي الربيع ، الرياض       الربيع   \n",
       "3                                  فيلا للبيع في الرياض         طويق   \n",
       "4               فيلا للبيع في شارع وادي الساحل ، الرياض       الرمال   \n",
       "...                                                 ...          ...   \n",
       "9969                 فيلا للبيع في حي ظهرة لبن ، الرياض          لبن   \n",
       "9970                 فيلا للبيع في حي الياسمين ، الرياض     الياسمين   \n",
       "9971        فيلا للبيع في طريق الملك عبدالعزيز ، الرياض       العارض   \n",
       "9972  فيلا للبيع في شارع حفصة بنت عمر ، حي الروضة ، ...       الروضة   \n",
       "9973                 فيلا للبيع في حي الياسمين ، الرياض     الياسمين   \n",
       "\n",
       "         time_duration  bedrooms  bathrooms        size         price  \n",
       "0      7 days 00:00:00  4.703128        4.0  640.000000  1.800000e+06  \n",
       "1      0 days 00:01:00  4.000000        4.0  447.000000  1.460000e+06  \n",
       "2      1 days 00:00:00  4.000000        5.0  450.000000  1.750000e+06  \n",
       "3     91 days 06:00:00  4.000000        5.0  336.000000  1.200000e+06  \n",
       "4      0 days 13:00:00  4.000000        4.0  373.000000  1.230000e+06  \n",
       "...                ...       ...        ...         ...           ...  \n",
       "9969   0 days 22:00:00  4.703128        5.0  300.000000  1.300000e+06  \n",
       "9970   0 days 08:00:00  5.000000        5.0  360.000000  2.100000e+06  \n",
       "9971  30 days 10:00:00  5.000000        3.0  391.000000  1.600000e+06  \n",
       "9972   0 days 01:00:00  5.000000        5.0  475.679968  1.895103e+06  \n",
       "9973   0 days 09:00:00  4.000000        3.0  350.000000  1.900000e+06  \n",
       "\n",
       "[9974 rows x 7 columns]"
      ]
     },
     "execution_count": 118,
     "metadata": {},
     "output_type": "execute_result"
    }
   ],
   "source": [
    "#set the final houses with new order of columns.\n",
    "final_houses = final_houses[new_columns]\n",
    "final_houses"
   ]
  },
  {
   "cell_type": "markdown",
   "id": "af869a42",
   "metadata": {},
   "source": [
    "---\n",
    "## Question 1:\n",
    "in any neighborhood, the most houses are expensive and in any neighborhood the most houses are cheap?"
   ]
  },
  {
   "cell_type": "code",
   "execution_count": 119,
   "id": "3cd99279",
   "metadata": {},
   "outputs": [],
   "source": [
    "def get_most_neighborhood(agg_function):\n",
    "    '''\n",
    "    function to get the most min/max houses \n",
    "    '''\n",
    "    neighborhoods_by_mean = final_houses.groupby('neighborhood').mean()\n",
    "    filter_mask = neighborhoods_by_mean['price'] == neighborhoods_by_mean['price'].agg(agg_function)\n",
    "    return neighborhoods_by_mean[filter_mask]\n",
    "\n",
    "\n",
    "\n",
    "cheapest_neighborhood = get_most_neighborhood('min')\n",
    "expensive_neighborhood = get_most_neighborhood('max')"
   ]
  },
  {
   "cell_type": "code",
   "execution_count": 120,
   "id": "f16d5c5d",
   "metadata": {},
   "outputs": [
    {
     "data": {
      "text/html": [
       "<div>\n",
       "<style scoped>\n",
       "    .dataframe tbody tr th:only-of-type {\n",
       "        vertical-align: middle;\n",
       "    }\n",
       "\n",
       "    .dataframe tbody tr th {\n",
       "        vertical-align: top;\n",
       "    }\n",
       "\n",
       "    .dataframe thead th {\n",
       "        text-align: right;\n",
       "    }\n",
       "</style>\n",
       "<table border=\"1\" class=\"dataframe\">\n",
       "  <thead>\n",
       "    <tr style=\"text-align: right;\">\n",
       "      <th></th>\n",
       "      <th>bedrooms</th>\n",
       "      <th>bathrooms</th>\n",
       "      <th>size</th>\n",
       "      <th>price</th>\n",
       "    </tr>\n",
       "    <tr>\n",
       "      <th>neighborhood</th>\n",
       "      <th></th>\n",
       "      <th></th>\n",
       "      <th></th>\n",
       "      <th></th>\n",
       "    </tr>\n",
       "  </thead>\n",
       "  <tbody>\n",
       "    <tr>\n",
       "      <th>اليمامة</th>\n",
       "      <td>4.4</td>\n",
       "      <td>4.0</td>\n",
       "      <td>325.0</td>\n",
       "      <td>366000.0</td>\n",
       "    </tr>\n",
       "  </tbody>\n",
       "</table>\n",
       "</div>"
      ],
      "text/plain": [
       "              bedrooms  bathrooms   size     price\n",
       "neighborhood                                      \n",
       "اليمامة            4.4        4.0  325.0  366000.0"
      ]
     },
     "execution_count": 120,
     "metadata": {},
     "output_type": "execute_result"
    }
   ],
   "source": [
    "cheapest_neighborhood"
   ]
  },
  {
   "cell_type": "code",
   "execution_count": 121,
   "id": "1eb9c1d0",
   "metadata": {},
   "outputs": [
    {
     "data": {
      "text/html": [
       "<div>\n",
       "<style scoped>\n",
       "    .dataframe tbody tr th:only-of-type {\n",
       "        vertical-align: middle;\n",
       "    }\n",
       "\n",
       "    .dataframe tbody tr th {\n",
       "        vertical-align: top;\n",
       "    }\n",
       "\n",
       "    .dataframe thead th {\n",
       "        text-align: right;\n",
       "    }\n",
       "</style>\n",
       "<table border=\"1\" class=\"dataframe\">\n",
       "  <thead>\n",
       "    <tr style=\"text-align: right;\">\n",
       "      <th></th>\n",
       "      <th>bedrooms</th>\n",
       "      <th>bathrooms</th>\n",
       "      <th>size</th>\n",
       "      <th>price</th>\n",
       "    </tr>\n",
       "    <tr>\n",
       "      <th>neighborhood</th>\n",
       "      <th></th>\n",
       "      <th></th>\n",
       "      <th></th>\n",
       "      <th></th>\n",
       "    </tr>\n",
       "  </thead>\n",
       "  <tbody>\n",
       "    <tr>\n",
       "      <th>الفلاح</th>\n",
       "      <td>4.540626</td>\n",
       "      <td>4.8</td>\n",
       "      <td>527.2</td>\n",
       "      <td>2.679021e+06</td>\n",
       "    </tr>\n",
       "  </tbody>\n",
       "</table>\n",
       "</div>"
      ],
      "text/plain": [
       "              bedrooms  bathrooms   size         price\n",
       "neighborhood                                          \n",
       "الفلاح        4.540626        4.8  527.2  2.679021e+06"
      ]
     },
     "execution_count": 121,
     "metadata": {},
     "output_type": "execute_result"
    }
   ],
   "source": [
    "expensive_neighborhood"
   ]
  },
  {
   "cell_type": "code",
   "execution_count": 122,
   "id": "79eaa648",
   "metadata": {},
   "outputs": [],
   "source": [
    "#map graph"
   ]
  },
  {
   "cell_type": "markdown",
   "id": "92c87aeb",
   "metadata": {},
   "source": [
    "## Answer 1:\n",
    "cheapest neighborhood: اليمامة\n",
    "\n",
    "the most expensive neighborhood: الفلاح"
   ]
  },
  {
   "cell_type": "markdown",
   "id": "1db92a0c",
   "metadata": {},
   "source": [
    "---\n",
    "## Question 2:\n",
    "are the bedrooms and bathrooms affect on the price?"
   ]
  },
  {
   "cell_type": "code",
   "execution_count": 123,
   "id": "dd1bf0dd",
   "metadata": {},
   "outputs": [
    {
     "data": {
      "text/html": [
       "<div>\n",
       "<style scoped>\n",
       "    .dataframe tbody tr th:only-of-type {\n",
       "        vertical-align: middle;\n",
       "    }\n",
       "\n",
       "    .dataframe tbody tr th {\n",
       "        vertical-align: top;\n",
       "    }\n",
       "\n",
       "    .dataframe thead th {\n",
       "        text-align: right;\n",
       "    }\n",
       "</style>\n",
       "<table border=\"1\" class=\"dataframe\">\n",
       "  <thead>\n",
       "    <tr style=\"text-align: right;\">\n",
       "      <th></th>\n",
       "      <th>title</th>\n",
       "      <th>neighborhood</th>\n",
       "      <th>time_duration</th>\n",
       "      <th>bedrooms</th>\n",
       "      <th>bathrooms</th>\n",
       "      <th>size</th>\n",
       "      <th>price</th>\n",
       "    </tr>\n",
       "  </thead>\n",
       "  <tbody>\n",
       "    <tr>\n",
       "      <th>3007</th>\n",
       "      <td>فيلا للبيع في شارع زيد بن ثابت بن مقلد ، حي ال...</td>\n",
       "      <td>فهد</td>\n",
       "      <td>30 days 10:00:00</td>\n",
       "      <td>5.000000</td>\n",
       "      <td>5.0</td>\n",
       "      <td>465.000000</td>\n",
       "      <td>1.200000e+06</td>\n",
       "    </tr>\n",
       "    <tr>\n",
       "      <th>1089</th>\n",
       "      <td>فيلا للبيع في شارع علي عبدالله القضاعي ، حي ال...</td>\n",
       "      <td>الخزامى</td>\n",
       "      <td>0 days 04:00:00</td>\n",
       "      <td>5.000000</td>\n",
       "      <td>5.0</td>\n",
       "      <td>475.679968</td>\n",
       "      <td>1.895103e+06</td>\n",
       "    </tr>\n",
       "    <tr>\n",
       "      <th>441</th>\n",
       "      <td>فيلا للبيع في طريق أنس ابن مالك ، الرياض</td>\n",
       "      <td>الملقا</td>\n",
       "      <td>0 days 00:36:00</td>\n",
       "      <td>5.000000</td>\n",
       "      <td>5.0</td>\n",
       "      <td>312.000000</td>\n",
       "      <td>2.000000e+06</td>\n",
       "    </tr>\n",
       "    <tr>\n",
       "      <th>8258</th>\n",
       "      <td>فيلا للبيع في طريق الأمير محمد بن سعد بن عبدال...</td>\n",
       "      <td>حطين</td>\n",
       "      <td>3 days 00:00:00</td>\n",
       "      <td>5.000000</td>\n",
       "      <td>4.0</td>\n",
       "      <td>475.679968</td>\n",
       "      <td>1.895103e+06</td>\n",
       "    </tr>\n",
       "    <tr>\n",
       "      <th>1334</th>\n",
       "      <td>فيلا للبيع في شارع أبي بكر الشاشي ، الرياض</td>\n",
       "      <td>العارض</td>\n",
       "      <td>1 days 00:00:00</td>\n",
       "      <td>4.000000</td>\n",
       "      <td>5.0</td>\n",
       "      <td>312.000000</td>\n",
       "      <td>1.500000e+06</td>\n",
       "    </tr>\n",
       "    <tr>\n",
       "      <th>2450</th>\n",
       "      <td>فيلا للبيع في حي القيروان ، الرياض</td>\n",
       "      <td>القيروان</td>\n",
       "      <td>1 days 00:00:00</td>\n",
       "      <td>5.000000</td>\n",
       "      <td>5.0</td>\n",
       "      <td>300.000000</td>\n",
       "      <td>1.600000e+06</td>\n",
       "    </tr>\n",
       "    <tr>\n",
       "      <th>8393</th>\n",
       "      <td>فيلا للبيع في شارع النشرة ، حي الصحافة ، الرياض</td>\n",
       "      <td>الصحافة</td>\n",
       "      <td>0 days 09:00:00</td>\n",
       "      <td>4.000000</td>\n",
       "      <td>5.0</td>\n",
       "      <td>300.000000</td>\n",
       "      <td>1.350000e+06</td>\n",
       "    </tr>\n",
       "    <tr>\n",
       "      <th>1821</th>\n",
       "      <td>فيلا للبيع في شارع الجفة, الملك فهد, الرياض</td>\n",
       "      <td>فهد</td>\n",
       "      <td>30 days 10:00:00</td>\n",
       "      <td>4.703128</td>\n",
       "      <td>5.0</td>\n",
       "      <td>485.000000</td>\n",
       "      <td>1.200000e+06</td>\n",
       "    </tr>\n",
       "    <tr>\n",
       "      <th>9160</th>\n",
       "      <td>فيلا للبيع في حي طويق ، الرياض</td>\n",
       "      <td>طويق</td>\n",
       "      <td>91 days 06:00:00</td>\n",
       "      <td>5.000000</td>\n",
       "      <td>5.0</td>\n",
       "      <td>240.000000</td>\n",
       "      <td>9.500000e+05</td>\n",
       "    </tr>\n",
       "    <tr>\n",
       "      <th>413</th>\n",
       "      <td>فيلا للبيع في المملكة العربية السعودية</td>\n",
       "      <td>المونسية</td>\n",
       "      <td>21 days 00:00:00</td>\n",
       "      <td>5.000000</td>\n",
       "      <td>5.0</td>\n",
       "      <td>300.000000</td>\n",
       "      <td>1.300000e+06</td>\n",
       "    </tr>\n",
       "  </tbody>\n",
       "</table>\n",
       "</div>"
      ],
      "text/plain": [
       "                                                  title neighborhood  \\\n",
       "3007  فيلا للبيع في شارع زيد بن ثابت بن مقلد ، حي ال...          فهد   \n",
       "1089  فيلا للبيع في شارع علي عبدالله القضاعي ، حي ال...      الخزامى   \n",
       "441            فيلا للبيع في طريق أنس ابن مالك ، الرياض       الملقا   \n",
       "8258  فيلا للبيع في طريق الأمير محمد بن سعد بن عبدال...         حطين   \n",
       "1334         فيلا للبيع في شارع أبي بكر الشاشي ، الرياض       العارض   \n",
       "2450                 فيلا للبيع في حي القيروان ، الرياض     القيروان   \n",
       "8393    فيلا للبيع في شارع النشرة ، حي الصحافة ، الرياض      الصحافة   \n",
       "1821        فيلا للبيع في شارع الجفة, الملك فهد, الرياض          فهد   \n",
       "9160                     فيلا للبيع في حي طويق ، الرياض         طويق   \n",
       "413              فيلا للبيع في المملكة العربية السعودية     المونسية   \n",
       "\n",
       "         time_duration  bedrooms  bathrooms        size         price  \n",
       "3007  30 days 10:00:00  5.000000        5.0  465.000000  1.200000e+06  \n",
       "1089   0 days 04:00:00  5.000000        5.0  475.679968  1.895103e+06  \n",
       "441    0 days 00:36:00  5.000000        5.0  312.000000  2.000000e+06  \n",
       "8258   3 days 00:00:00  5.000000        4.0  475.679968  1.895103e+06  \n",
       "1334   1 days 00:00:00  4.000000        5.0  312.000000  1.500000e+06  \n",
       "2450   1 days 00:00:00  5.000000        5.0  300.000000  1.600000e+06  \n",
       "8393   0 days 09:00:00  4.000000        5.0  300.000000  1.350000e+06  \n",
       "1821  30 days 10:00:00  4.703128        5.0  485.000000  1.200000e+06  \n",
       "9160  91 days 06:00:00  5.000000        5.0  240.000000  9.500000e+05  \n",
       "413   21 days 00:00:00  5.000000        5.0  300.000000  1.300000e+06  "
      ]
     },
     "execution_count": 123,
     "metadata": {},
     "output_type": "execute_result"
    }
   ],
   "source": [
    "final_houses.sample(10)"
   ]
  },
  {
   "cell_type": "code",
   "execution_count": 124,
   "id": "eab09888",
   "metadata": {
    "scrolled": true
   },
   "outputs": [
    {
     "data": {
      "text/plain": [
       "<AxesSubplot:>"
      ]
     },
     "execution_count": 124,
     "metadata": {},
     "output_type": "execute_result"
    },
    {
     "data": {
      "image/png": "[encoded data removed]",
      "text/plain": [
       "<Figure size 432x288 with 2 Axes>"
      ]
     },
     "metadata": {
      "needs_background": "light"
     },
     "output_type": "display_data"
    }
   ],
   "source": [
    "houses_corr = final_houses.corr()\n",
    "sns.heatmap(data=houses_corr, annot=True)"
   ]
  },
  {
   "cell_type": "code",
   "execution_count": 125,
   "id": "32857884",
   "metadata": {},
   "outputs": [
    {
     "data": {
      "text/plain": [
       "<seaborn.axisgrid.PairGrid at 0x7fbcb562cc70>"
      ]
     },
     "execution_count": 125,
     "metadata": {},
     "output_type": "execute_result"
    },
    {
     "data": {
      "image/png": "[encoded data removed]",
      "text/plain": [
       "<Figure size 720x720 with 20 Axes>"
      ]
     },
     "metadata": {
      "needs_background": "light"
     },
     "output_type": "display_data"
    }
   ],
   "source": [
    "sns.pairplot(data=final_houses)"
   ]
  },
  {
   "cell_type": "markdown",
   "id": "88a83cfb",
   "metadata": {},
   "source": [
    "## Answer 2: \n",
    "No, it's not affect."
   ]
  },
  {
   "cell_type": "markdown",
   "id": "56fd269f",
   "metadata": {},
   "source": [
    "---\n",
    "## Question 3:\n",
    "can we predict the price of the house depending on the features we had or do we need more?"
   ]
  },
  {
   "cell_type": "markdown",
   "id": "04e1b2c9",
   "metadata": {},
   "source": [
    "## Answer 3:\n",
    "There is a small correlation between the size and the price, but it's not enough, we need more."
   ]
  },
  {
   "cell_type": "markdown",
   "id": "b98f7291",
   "metadata": {},
   "source": [
    "---\n",
    "## Question 4:\n",
    "in which neighborhood the most and least number of houses offers?"
   ]
  },
  {
   "cell_type": "code",
   "execution_count": 126,
   "id": "1852aae9",
   "metadata": {},
   "outputs": [],
   "source": [
    "def get_most_houses_count(agg_function):\n",
    "    '''\n",
    "    function to get the most min/max houses \n",
    "    '''\n",
    "    neighborhoods_by_counts = final_houses['neighborhood'].value_counts()\n",
    "    filter_mask = neighborhoods_by_counts == neighborhoods_by_counts.agg(agg_function)\n",
    "    return neighborhoods_by_counts[filter_mask]\n",
    "\n",
    "min_neighborhood = get_most_houses_count('min')\n",
    "max_neighborhood = get_most_houses_count('max')"
   ]
  },
  {
   "cell_type": "code",
   "execution_count": 127,
   "id": "a2fb5194",
   "metadata": {},
   "outputs": [
    {
     "data": {
      "text/plain": [
       "سعود         1\n",
       "غبيرة        1\n",
       "الضباط       1\n",
       "المصانع      1\n",
       "الزهراء      1\n",
       "الشرفية      1\n",
       "والبحوث      1\n",
       "الجرادية     1\n",
       "الوشام       1\n",
       "المؤتمرات    1\n",
       "القري        1\n",
       "عليشة        1\n",
       "الوزارات     1\n",
       "Name: neighborhood, dtype: int64"
      ]
     },
     "execution_count": 127,
     "metadata": {},
     "output_type": "execute_result"
    }
   ],
   "source": [
    "min_neighborhood"
   ]
  },
  {
   "cell_type": "code",
   "execution_count": 128,
   "id": "e2313dc9",
   "metadata": {},
   "outputs": [
    {
     "data": {
      "text/plain": [
       "طويق    2106\n",
       "Name: neighborhood, dtype: int64"
      ]
     },
     "execution_count": 128,
     "metadata": {},
     "output_type": "execute_result"
    }
   ],
   "source": [
    "max_neighborhood"
   ]
  },
  {
   "cell_type": "code",
   "execution_count": 129,
   "id": "79aa9a84",
   "metadata": {},
   "outputs": [],
   "source": [
    "#map graph"
   ]
  },
  {
   "cell_type": "markdown",
   "id": "efae09c2",
   "metadata": {},
   "source": [
    "## Answer 4:\n",
    "min houses: [سعود، غبيرة، الضباط، المصانع، الزهراء، الشرفية، البحوث، الجرادية، الوشام، المؤتمرات، القري، عليشة، الوزارات]\n",
    "\n",
    "max house: طويق"
   ]
  },
  {
   "cell_type": "markdown",
   "id": "43b987df",
   "metadata": {},
   "source": [
    "---\n",
    "## Question 5:\n",
    "can we extract new information from 'details' to indicates the value of the house?"
   ]
  },
  {
   "cell_type": "code",
   "execution_count": 130,
   "id": "b7d6d5a9",
   "metadata": {},
   "outputs": [],
   "source": [
    "#To-Do"
   ]
  },
  {
   "cell_type": "markdown",
   "id": "f212a512",
   "metadata": {},
   "source": [
    "## Answer 5:\n",
    "cooming soon..."
   ]
  },
  {
   "cell_type": "code",
   "execution_count": null,
   "id": "495cf296",
   "metadata": {},
   "outputs": [],
   "source": []
  }
 ],
 "metadata": {
  "kernelspec": {
   "display_name": "Python 3 (ipykernel)",
   "language": "python",
   "name": "python3"
  },
  "language_info": {
   "codemirror_mode": {
    "name": "ipython",
    "version": 3
   },
   "file_extension": ".py",
   "mimetype": "text/x-python",
   "name": "python",
   "nbconvert_exporter": "python",
   "pygments_lexer": "ipython3",
   "version": "3.8.12"
  }
 },
 "nbformat": 4,
 "nbformat_minor": 5
}
